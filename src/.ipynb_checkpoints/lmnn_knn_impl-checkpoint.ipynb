{
 "cells": [
  {
   "cell_type": "code",
   "execution_count": 8,
   "metadata": {},
   "outputs": [
    {
     "name": "stdout",
     "output_type": "stream",
     "text": [
      "(400, 200)\n",
      "400\n"
     ]
    }
   ],
   "source": [
    "from sklearn.neighbors import KNeighborsClassifier\n",
    "from sklearn.model_selection import train_test_split\n",
    "from sklearn.datasets import fetch_olivetti_faces\n",
    "from sklearn.decomposition import PCA\n",
    "from pylmnn import LargeMarginNearestNeighbor as LMNN\n",
    "\n",
    "\n",
    "# Load a data set\n",
    "bunch = fetch_olivetti_faces()\n",
    "#print(type(bunch.data))\n",
    "\n",
    "pca = PCA(n_components=200)\n",
    "output_pca = pca.fit_transform(bunch.data)\n",
    "print(output_pca.shape)\n",
    "print(len(bunch.data))\n"
   ]
  },
  {
   "cell_type": "code",
   "execution_count": 11,
   "metadata": {},
   "outputs": [
    {
     "name": "stdout",
     "output_type": "stream",
     "text": [
      "LMNN accuracy on test set of 200 points: 0.8083\n"
     ]
    }
   ],
   "source": [
    "# Split in training and testing set\n",
    "\n",
    "X_train = []\n",
    "X_test = []\n",
    "y_train = []\n",
    "y_test = []\n",
    "for sample in range(len(bunch.data)):\n",
    "    if sample%10 < 7:\n",
    "        X_train.append(output_pca[sample])  #bunch.data[sample]\n",
    "        y_train.append(bunch.target[sample])\n",
    "    else :\n",
    "        X_test.append(output_pca[sample])  #bunch.data[sample]\n",
    "        y_test.append(bunch.target[sample])\n",
    "\n",
    "#X_train, X_test, y_train, y_test = train_test_split(output_pca, bunch.target, test_size=0.7)#, stratify=y, random_state=42)\n",
    "\n",
    "# Set up the hyperparameters\n",
    "k_train, k_test, n_components, max_iter = 3, 3, output_pca.shape[1], 180\n",
    "\n",
    "# Instantiate the metric learner\n",
    "lmnn = LMNN(n_neighbors=k_train, max_iter=max_iter, n_components=n_components)\n",
    "\n",
    "# Train the metric learner\n",
    "lmnn.fit(X_train, y_train)\n",
    "\n",
    "# Fit the nearest neighbors classifier\n",
    "knn = KNeighborsClassifier(n_neighbors=k_test)\n",
    "knn.fit(lmnn.transform(X_train), y_train)\n",
    "\n",
    "# Compute the k-nearest neighbor test accuracy after applying the learned transformation\n",
    "lmnn_acc = knn.score(lmnn.transform(X_test), y_test)\n",
    "print('LMNN accuracy on test set of {} points: {:.4f}'.format(len(X_test[0]), lmnn_acc))"
   ]
  },
  {
   "cell_type": "code",
   "execution_count": 22,
   "metadata": {},
   "outputs": [],
   "source": []
  },
  {
   "cell_type": "code",
   "execution_count": null,
   "metadata": {},
   "outputs": [],
   "source": []
  }
 ],
 "metadata": {
  "kernelspec": {
   "display_name": "Python 3",
   "language": "python",
   "name": "python3"
  },
  "language_info": {
   "codemirror_mode": {
    "name": "ipython",
    "version": 3
   },
   "file_extension": ".py",
   "mimetype": "text/x-python",
   "name": "python",
   "nbconvert_exporter": "python",
   "pygments_lexer": "ipython3",
   "version": "3.6.9"
  }
 },
 "nbformat": 4,
 "nbformat_minor": 2
}
