{
 "cells": [
  {
   "cell_type": "code",
   "execution_count": null,
   "metadata": {},
   "outputs": [],
   "source": [
    "import numpy as np\n",
    "from sklearn.neighbors import KNeighborsClassifier\n",
    "from sklearn.metrics import accuracy_score\n",
    "\n",
    "class Marginal_knn:\n",
    "    def __init__(self, n_neighbors):\n",
    "        self.k = n_neighbors\n",
    "        self.knn = KNeighborsClassifier(n_neighbors=self.k)\n",
    "        \n",
    "    def fit(self, X, y):\n",
    "        self.X = X\n",
    "        self.y = y\n",
    "        self.knn.fit(X,y)\n",
    "        \n",
    "    def predict_proba(self, X):\n",
    "        ip_neigh_dist, ip_neigh_ind = self.knn.kneighbors(self.X, n_neighbors=self.k, return_distance=True)\n",
    "        x_neigh_dist, x_neigh_ind = self.knn.kneighbors(X, n_neighbors=self.k, return_distance=True)\n",
    "        class_probs = np.zeros((len(X), len(y)), dtype = float)\n",
    "        classes = knn.classes_\n",
    "        for i in len(X):  ## for all samples xi\n",
    "            ni = np.zeros(len(classes), dtype=int)\n",
    "            for p in x_neigh_ind[i]:\n",
    "                ni[y[p]]+=1\n",
    "            for j in len(self.k):  ## for all neighbours xj of xi\n",
    "                idx = x_neigh_ind[i,j]\n",
    "                nj = np.zeros(len(classes), dtype=int)\n",
    "                for p in ip_neigh_ind[idx]:\n",
    "                    nj[y[p]]+=1\n",
    "                class_probs[y[idx]] = np.sum(ni*nj)/(self.k*self.k)\n",
    "        return class_probs\n",
    "    \n",
    "    def predict(self,X):\n",
    "        x_neigh_dist, x_neigh_ind = self.knn.kneighbors(X, n_neighbors=self.k, return_distance=True)\n",
    "        classes = knn.classes_\n",
    "        probs = []\n",
    "        for i in range(len(X_test)-1):\n",
    "            ni = np.zeros(len(classes), dtype=int)\n",
    "            for p in x_neigh_ind[i]:\n",
    "                ni[self.y[p]]+=1\n",
    "            for j in range(i+1,len(X_test)):\n",
    "                nj = np.zeros(len(classes), dtype=int)\n",
    "                for p in x_neigh_ind[j]:\n",
    "                    nj[self.y[p]]+=1\n",
    "                probs.append(np.sum(ni*nj)/(self.k*self.k))\n",
    "        return probs\n",
    "    '''\n",
    "    def score(self, X, y):\n",
    "        probs = self.predict_proba(X)\n",
    "        pred_class = []\n",
    "        for i in len(X):\n",
    "            pred_class = \n",
    "    '''"
   ]
  },
  {
   "cell_type": "code",
   "execution_count": null,
   "metadata": {},
   "outputs": [],
   "source": []
  }
 ],
 "metadata": {
  "kernelspec": {
   "display_name": "Python 3",
   "language": "python",
   "name": "python3"
  },
  "language_info": {
   "codemirror_mode": {
    "name": "ipython",
    "version": 3
   },
   "file_extension": ".py",
   "mimetype": "text/x-python",
   "name": "python",
   "nbconvert_exporter": "python",
   "pygments_lexer": "ipython3",
   "version": "3.6.9"
  }
 },
 "nbformat": 4,
 "nbformat_minor": 2
}
