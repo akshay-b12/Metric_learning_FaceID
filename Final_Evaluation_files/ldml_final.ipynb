{
 "cells": [
  {
   "cell_type": "code",
   "execution_count": 8,
   "metadata": {},
   "outputs": [],
   "source": [
    "import numpy as np\n",
    "import cv2\n",
    "import dlib\n",
    "from dml import LDML\n",
    "from sklearn.datasets import fetch_olivetti_faces\n",
    "from sklearn.decomposition import PCA\n",
    "from sklearn.neighbors import KNeighborsClassifier\n",
    "from imutils import face_utils\n",
    "from skimage import data, feature, color, filters, img_as_float, io\n",
    "from Marginal_knn import Marginal_knn\n",
    "from matplotlib import pyplot as plt\n",
    "import math\n",
    "import glob"
   ]
  },
  {
   "cell_type": "code",
   "execution_count": 2,
   "metadata": {},
   "outputs": [],
   "source": [
    "## Initialize DLib's shape predictor\n",
    "shape_predictor = dlib.get_frontal_face_detector()\n",
    "predictor = dlib.shape_predictor('./shape_predictor_68_face_landmarks.dat')\n",
    "\n",
    "## Initilize OpenCV's SIFT detector\n",
    "sift_detector = cv2.xfeatures2d.SIFT_create()\n",
    "\n",
    "def get_landmark_points(image, rect):\n",
    "    if len(image.shape) > 2:\n",
    "        gray = cv2.cvtColor(image, cv2.COLOR_BGR2GRAY)\n",
    "    else:\n",
    "        gray = image\n",
    "    rect = dlib.rectangle(rect[0], rect[1], rect[0]+rect[2], rect[1]+rect[3])\n",
    "    shape = predictor(gray, rect)\n",
    "    shape = face_utils.shape_to_np(shape)\n",
    "    #print(shape)\n",
    "    #kp_idx = [36, 39, 42, 45, 31, 33, 35, 48, 54]\n",
    "    #for i in kp_idx:\n",
    "    #cv2.circle(image, (shape[i][0], shape[i][1]), 2, (0, 0, 255), -1)\n",
    "    #cv2.imwrite(\"img\"+str(np.random.randint(0,1000))+\".jpg\", image)\n",
    "    #plt.figure(figsize=(10,10))\n",
    "    #plt.axis(\"off\")\n",
    "    #plt.imshow(cv2.cvtColor(img, cv2.COLOR_BGR2RGB))\n",
    "    #plt.show()\n",
    "    return shape"
   ]
  },
  {
   "cell_type": "code",
   "execution_count": 3,
   "metadata": {},
   "outputs": [],
   "source": [
    "def get_sift_descriptors(images):\n",
    "    kp_idx = [36, 39, 42, 45, 31, 33, 35, 48, 54]\n",
    "    scale = 0.7\n",
    "    descriptors = []\n",
    "    for img in images:\n",
    "        img_des = []\n",
    "        if len(img.shape) > 2:\n",
    "            gray = cv2.cvtColor(img, cv2.COLOR_BGR2GRAY)\n",
    "        else:\n",
    "            gray = img\n",
    "        gray = gray.astype(np.uint8)\n",
    "        \n",
    "        #print(keypoints[0].pt[1])\n",
    "        tmp_gray = gray.copy()\n",
    "        for j in range(3):\n",
    "            face_rect = (0,0,tmp_gray.shape[1]-1, tmp_gray.shape[0]-1)\n",
    "            landmarks = get_landmark_points(tmp_gray, face_rect)\n",
    "            keypoints = [cv2.KeyPoint(landmarks[i][0], landmarks[i][1], 1) for i in kp_idx]\n",
    "            kp,des = sift_detector.compute(tmp_gray,keypoints)\n",
    "            #img=cv2.drawKeypoints(tmp_gray,kp,tmp_gray,flags=cv2.DRAW_MATCHES_FLAGS_DRAW_RICH_KEYPOINTS)\n",
    "            #cv2.imwrite('sift'+str(j)+\".jpg\",img)\n",
    "            des = des.flatten()\n",
    "            img_des.append(des)\n",
    "            if j == 2:\n",
    "                break\n",
    "            tmp_gray = cv2.resize(tmp_gray,None,fx=0.7,fy=0.7, interpolation=cv2.INTER_AREA)\n",
    "            #keypoints = [cv2.KeyPoint(keypoints[k].pt[0]*0.7, keypoints[k].pt[1]*0.7, 1) for k in range(len(keypoints))]\n",
    "        img_des = np.array(img_des).flatten()\n",
    "        descriptors.append(img_des)\n",
    "        #plt.figure(figsize=(10,10))\n",
    "        #plt.axis(\"off\")\n",
    "        #plt.imshow(cv2.cvtColor(img, cv2.COLOR_BGR2RGB))\n",
    "        #plt.show()\n",
    "        \n",
    "    #print(\"Pair \", i+1, \" computed\")\n",
    "    return descriptors"
   ]
  },
  {
   "cell_type": "code",
   "execution_count": 4,
   "metadata": {},
   "outputs": [],
   "source": [
    "face_cascade = cv2.CascadeClassifier('./haarcascade_frontalface_default.xml')\n",
    "def get_face(files):\n",
    "    faces = []\n",
    "    for file in files:\n",
    "        image = cv2.imread(file, cv2.IMREAD_GRAYSCALE)\n",
    "        if len(image.shape) > 2:\n",
    "            gray = cv2.cvtColor(image, cv2.COLOR_BGR2GRAY)\n",
    "        else:\n",
    "            gray = image\n",
    "        face = face_cascade.detectMultiScale(gray, 1.3, 5)\n",
    "        if len(face) == 0:\n",
    "            return faces, False\n",
    "        face = gray[face[0][0]:face[0][0]+face[0][2], face[0][1]:face[0][1]+face[0][3]]\n",
    "        #face = cv2.resize(face, (150,150)) #(47,62)\n",
    "        #plt.imshow(face)\n",
    "        #cv2.imshow('face',face)\n",
    "        #cv2.waitKey(0)\n",
    "        #face = face.flatten()\n",
    "        faces.append(face)\n",
    "        '''\n",
    "        img = image.copy()\n",
    "        for (x,y,w,h) in faces:\n",
    "            img = cv2.rectangle(img,(x,y),(x+w,y+h),(255,0,0),5)\n",
    "        \n",
    "        plt.figure(figsize=(10,10))\n",
    "        plt.axis(\"off\")\n",
    "        plt.imshow(cv2.cvtColor(img, cv2.COLOR_BGR2RGB))\n",
    "        plt.show()\n",
    "        '''\n",
    "    return faces, True"
   ]
  },
  {
   "cell_type": "code",
   "execution_count": 5,
   "metadata": {},
   "outputs": [],
   "source": [
    "from sklearn.metrics import roc_curve, auc\n",
    "from sklearn.metrics import roc_auc_score\n",
    "\n",
    "def get_acc(y_pred, y_pred_prob, method):\n",
    "    lmnn_positive_count = 0\n",
    "    y_pair_actual = []\n",
    "    y_pair_pred = []\n",
    "    counter=0\n",
    "    for i in range(len(X_test)-1):\n",
    "        for j in range(i+1,len(X_test)):\n",
    "            if y_test[i]==y_test[j]:\n",
    "                y_pair_actual.append(1)\n",
    "            else:\n",
    "                y_pair_actual.append(0)\n",
    "            if method == 'knn':\n",
    "                if y_pred[i]==y_pred[j]:\n",
    "                    y_pair_pred.append(max(max(y_pred_prob[i]),max(y_pred_prob[j])))\n",
    "                else:\n",
    "                    y_pair_pred.append(0)\n",
    "                if y_test[i]==y_test[j] and y_pred[i]==y_pred[j]:\n",
    "                    lmnn_positive_count+=1\n",
    "                if y_test[i]!=y_test[j] and y_pred[i]!=y_pred[j]:\n",
    "                    lmnn_positive_count+=1\n",
    "            if method == 'mknn':\n",
    "                if y_pred[counter] > 0.5:\n",
    "                    y_pair_pred.append(1)\n",
    "                    lmnn_positive_count+=1\n",
    "                else:\n",
    "                    y_pair_pred.append(0)\n",
    "            counter+=1\n",
    "            \n",
    "    #print(lmnn_positive_count, ((len(X_test)*(len(X_test)-1))))\n",
    "    lmnn_acc = lmnn_positive_count*2/((len(X_test)*(len(X_test)-1)))\n",
    "    return lmnn_acc, y_pair_actual, y_pair_pred\n",
    "    \n",
    "def roc_auc_curve(y_pair_actual, y_pair_pred):\n",
    "    fpr = dict()\n",
    "    tpr = dict()\n",
    "    roc_auc = dict()\n",
    "    for i in range(2):\n",
    "        fpr[i], tpr[i], _ = roc_curve(y_pair_actual, y_pair_pred)  #fpr[i], tpr[i], _ = roc_curve(y_test[:, i], y_pred[:, i])\n",
    "        roc_auc[i] = auc(fpr[i], tpr[i])\n",
    "    \n",
    "    # Compute micro-average ROC curve and ROC area\n",
    "    fpr[\"micro\"], tpr[\"micro\"], _ = roc_curve(y_pair_actual, y_pair_pred)\n",
    "    roc_auc[\"micro\"] = auc(fpr[\"micro\"], tpr[\"micro\"])\n",
    "    #print(roc_auc)\n",
    "    return roc_auc, fpr, tpr"
   ]
  },
  {
   "cell_type": "code",
   "execution_count": 6,
   "metadata": {},
   "outputs": [
    {
     "name": "stdout",
     "output_type": "stream",
     "text": [
      "(280, 200) (120, 200)\n"
     ]
    }
   ],
   "source": [
    "from sklearn.model_selection import train_test_split\n",
    "from sklearn.datasets import fetch_olivetti_faces\n",
    "import warnings\n",
    "warnings.filterwarnings(\"ignore\")\n",
    "\n",
    "# Load a data set\n",
    "bunch = fetch_olivetti_faces(data_home = './data')\n",
    "bunch.images *=255\n",
    "images = bunch.images.astype('uint8')\n",
    "#print(img)\n",
    "#plt.imshow(img[10])\n",
    "\n",
    "#print(type(bunch.data))\n",
    "sift_data = get_sift_descriptors(images)\n",
    "pca = PCA(n_components=200)\n",
    "output_pca = pca.fit_transform(sift_data)\n",
    "#print(output_pca.shape)\n",
    "#print(np.shape(bunch.data))\n",
    "\n",
    "X_train, X_test, y_train, y_test = train_test_split(output_pca, bunch.target, train_size=0.7, random_state=42)#, stratify=y, random_state=42)\n",
    "print(np.shape(X_train), np.shape(X_test))"
   ]
  },
  {
   "cell_type": "code",
   "execution_count": 11,
   "metadata": {},
   "outputs": [
    {
     "name": "stdout",
     "output_type": "stream",
     "text": [
      "0.7666666666666667\n",
      "ROC-AUC score with  3  neighbors\n",
      "K-NN: 0.8239547787536362 \tM-KNN: 0.9620633111434327\n",
      "0.6833333333333333\n",
      "ROC-AUC score with  5  neighbors\n",
      "K-NN: 0.7285090694226897 \tM-KNN: 0.9585316031270977\n",
      "0.6583333333333333\n",
      "ROC-AUC score with  7  neighbors\n",
      "K-NN: 0.7183321912060864 \tM-KNN: 0.9621712596498098\n",
      "0.5916666666666667\n",
      "ROC-AUC score with  10  neighbors\n",
      "K-NN: 0.7015446688297158 \tM-KNN: 0.9443064374021034\n"
     ]
    }
   ],
   "source": [
    "k_neighbors = [3,5,7,10]\n",
    "n_components, max_iter = X_train.shape[1], 180\n",
    "\n",
    "ldml_acc_knn, roc_knn, fpr_knn, tpr_knn = [],[],[],[] \n",
    "ldml_acc_mknn, roc_mknn, fpr_mknn, tpr_mknn = [],[],[],[]\n",
    "\n",
    "# Instantiate the metric learner\n",
    "ldml_instance = LDML(initial_metric='euclidean', max_iter=100, eta0 = 0.1, b=0.01) #initial_metric=np.identity(np.shape(X_train)[1], dtype=float), upper_bound=1, lower_bound=1, gamma=1, max_iter=1000\n",
    "ldml_instance.fit(np.asarray(X_train), np.asarray(y_train))\n",
    "ldml_train_op = ldml_instance.transform(np.asarray(X_train))\n",
    "ldml_test_op = ldml_instance.transform(np.asarray(X_test))\n",
    "for k in k_neighbors:\n",
    "    # Fit the nearest neighbors classifier\n",
    "    knn = KNeighborsClassifier(n_neighbors=k)\n",
    "    knn.fit(ldml_train_op, y_train)\n",
    "    \n",
    "    # Compute the k-nearest neighbor test accuracy after applying the learned transformation\n",
    "    #lmnn_acc = knn.score(lmnn.transform(X_test), y_test)\n",
    "    \n",
    "    y_pred_prob = knn.predict_proba(ldml_test_op)\n",
    "    y_pred = knn.predict(ldml_test_op)\n",
    "    k_score = ldml_acc = knn.score(ldml_test_op, y_test)\n",
    "    print(k_score)\n",
    "    acc, y_pair_actual, y_pair_pred = get_acc(y_pred, y_pred_prob, method='knn')\n",
    "    #print(y_pair_pred)\n",
    "    ldml_acc_knn.append(acc)\n",
    "    roc_auc1, fpr_, tpr_ = roc_auc_curve(y_pair_actual, y_pair_pred)\n",
    "    roc_knn.append(roc_auc1)\n",
    "    fpr_knn.append(fpr_)\n",
    "    tpr_knn.append(tpr_)\n",
    "    \n",
    "    Mknn = Marginal_knn(n_neighbors=k)\n",
    "    Mknn.fit(ldml_train_op, y_train)\n",
    "    y_pred = Mknn.predict(ldml_test_op)\n",
    "    acc, y_pair_actual, y_pair_pred = get_acc(y_pred, y_pred_prob, method='mknn')\n",
    "    ldml_acc_mknn.append(acc)\n",
    "    roc_auc2, fpr_, tpr_ = roc_auc_curve(y_pair_actual, y_pred)\n",
    "    roc_mknn.append(roc_auc2)\n",
    "    fpr_mknn.append(fpr_)\n",
    "    tpr_mknn.append(tpr_)\n",
    "    print(\"ROC-AUC score with \",str(k),\" neighbors\")\n",
    "    print(\"K-NN:\", roc_auc1['micro'], \"\\tM-KNN:\", roc_auc2['micro'])"
   ]
  },
  {
   "cell_type": "code",
   "execution_count": 12,
   "metadata": {},
   "outputs": [
    {
     "data": {
      "image/png": "[encoded data removed]",
      "text/plain": [
       "<Figure size 864x432 with 2 Axes>"
      ]
     },
     "metadata": {},
     "output_type": "display_data"
    }
   ],
   "source": [
    "fig, (ax1, ax2) = plt.subplots(1,2, figsize = (12,6))\n",
    "ax1.set_xlabel('False Positive Rate')\n",
    "ax1.set_ylabel('True Positive Rate')\n",
    "ax1.set_title('ROC-KNN')\n",
    "ax1.set_xlim([0.0, 1.0])\n",
    "ax1.set_ylim([0.0, 1.05])\n",
    "ax2.set_xlabel('False Positive Rate')\n",
    "ax2.set_ylabel('True Positive Rate')\n",
    "ax2.set_title('ROC-M-KNN')\n",
    "ax2.set_xlim([0.0, 1.0])\n",
    "ax2.set_ylim([0.0, 1.05])\n",
    "lw = 1\n",
    "x = 0\n",
    "color = ['b', 'g', 'r', 'm']\n",
    "for i in range(len(k_neighbors)):\n",
    "    ax1.plot(fpr_knn[i][x], tpr_knn[i][x], color=color[i],\n",
    "             lw=lw, label='ROC '+str(k_neighbors[i])+'-nn (area=%0.2f)' % roc_knn[i][x])\n",
    "    ax2.plot(fpr_mknn[i][x], tpr_mknn[i][x], color=color[i],\n",
    "             lw=lw, label='ROC '+str(k_neighbors[i])+'-nn (area=%0.2f)' % roc_mknn[i][x])\n",
    "    #plt.plot([0, 1], [0, 1], color='navy', lw=lw, linestyle='--')\n",
    "    \n",
    "    ax1.legend(loc=\"lower right\")\n",
    "    ax2.legend(loc=\"lower right\")\n",
    "plt.show()"
   ]
  },
  {
   "cell_type": "code",
   "execution_count": 14,
   "metadata": {},
   "outputs": [],
   "source": [
    "#-- Read file conatining image paths ---#\n",
    "files = glob.glob('./extract/*')\n",
    "#name_file = open('./all_images.txt', 'r')\n",
    "#lines = name_file.readlines()"
   ]
  },
  {
   "cell_type": "code",
   "execution_count": 16,
   "metadata": {},
   "outputs": [
    {
     "name": "stdout",
     "output_type": "stream",
     "text": [
      "Number of classes: 53\n"
     ]
    }
   ],
   "source": [
    "#--- Read images, prepare training and testing dataset ---#\n",
    "images = []\n",
    "labels = []\n",
    "label_count = 0\n",
    "#face_train, face_test, y_train, y_test = [], [], [], []\n",
    "for file in files:\n",
    "    #print(line)\n",
    "    img_files = glob.glob(file+'/*')\n",
    "    name, count = img_files[0].split('/')[-2].split('.')[0], len(img_files)\n",
    "    if int(count)>11 :\n",
    "        #files = glob.glob('./lfw-deepfunneled/'+name+'/*')\n",
    "        #print(line)\n",
    "        faces, flag = get_face(img_files)\n",
    "        if flag:\n",
    "            tmp = 0\n",
    "            for i in range(10): #for face in faces: \n",
    "                #if tmp!=2 and tmp != 3 and tmp!=6 and tmp!=9 and tmp !=11 and tmp!=13:\n",
    "                '''\n",
    "                if tmp != 3 and tmp!=5 and tmp!=6: #and tmp!=9 and tmp!=11:\n",
    "                    face_train.append(faces[i])\n",
    "                    y_train.append(label_count)\n",
    "                else:\n",
    "                    face_test.append(faces[i])\n",
    "                    y_test.append(label_count)\n",
    "                tmp+=1\n",
    "                '''\n",
    "                images.append(faces[i])\n",
    "                labels.append(label_count)\n",
    "            label_count+=1\n",
    "        else:\n",
    "            pass\n",
    "            #print(\"Notfound\")\n",
    "\n",
    "n_classes = label_count\n",
    "print(\"Number of classes:\",n_classes)\n",
    "#print(\"Training data shape:\",np.shape(face_train),\" Testing data shape:\", np.shape(face_test))"
   ]
  },
  {
   "cell_type": "code",
   "execution_count": 17,
   "metadata": {},
   "outputs": [
    {
     "name": "stdout",
     "output_type": "stream",
     "text": [
      "Feature size after SIFT:  (530, 3456)\n"
     ]
    }
   ],
   "source": [
    "sift_data = get_sift_descriptors(images)#[0:1800]\n",
    "print(\"Feature size after SIFT: \",np.shape(sift_data))\n",
    "X_train, X_test, y_train, y_test = train_test_split(sift_data, labels, train_size=0.8, random_state=420)#, stratify=y, random_state=42)"
   ]
  },
  {
   "cell_type": "code",
   "execution_count": 19,
   "metadata": {},
   "outputs": [
    {
     "name": "stdout",
     "output_type": "stream",
     "text": [
      "PCA output shape (95% of info)  (424, 122)\n"
     ]
    }
   ],
   "source": [
    "pca = PCA(n_components=0.9)\n",
    "X_train = pca.fit_transform(X_train)\n",
    "print(\"PCA output shape (95% of info) \",np.shape(X_train))\n",
    "X_test = pca.transform(X_test)"
   ]
  },
  {
   "cell_type": "code",
   "execution_count": 20,
   "metadata": {},
   "outputs": [
    {
     "name": "stdout",
     "output_type": "stream",
     "text": [
      "0.1320754716981132\n",
      "ROC-AUC score with  3  neighbors\n",
      "K-NN: 0.5076539827498732 \tM-KNN: 0.6057564687975647\n",
      "0.1509433962264151\n",
      "ROC-AUC score with  5  neighbors\n",
      "K-NN: 0.5225844748858447 \tM-KNN: 0.6221380010147133\n",
      "0.1320754716981132\n",
      "ROC-AUC score with  7  neighbors\n",
      "K-NN: 0.5190208016235414 \tM-KNN: 0.6043003551496703\n",
      "0.12264150943396226\n",
      "ROC-AUC score with  10  neighbors\n",
      "K-NN: 0.5209183155758498 \tM-KNN: 0.6729700659563673\n"
     ]
    }
   ],
   "source": [
    "k_neighbors = [3,5,7,10]\n",
    "n_components, max_iter = X_train.shape[1], 180\n",
    "\n",
    "ldml_acc_knn, roc_knn, fpr_knn, tpr_knn = [],[],[],[] \n",
    "ldml_acc_mknn, roc_mknn, fpr_mknn, tpr_mknn = [],[],[],[]\n",
    "\n",
    "# Instantiate the metric learner\n",
    "ldml_instance = LDML(initial_metric='euclidean', max_iter=100, eta0 = 0.1, b=0.01) #initial_metric=np.identity(np.shape(X_train)[1], dtype=float), upper_bound=1, lower_bound=1, gamma=1, max_iter=1000\n",
    "ldml_instance.fit(np.asarray(X_train), np.asarray(y_train))\n",
    "ldml_train_op = ldml_instance.transform(np.asarray(X_train))\n",
    "ldml_test_op = ldml_instance.transform(np.asarray(X_test))\n",
    "for k in k_neighbors:\n",
    "    # Fit the nearest neighbors classifier\n",
    "    knn = KNeighborsClassifier(n_neighbors=k)\n",
    "    knn.fit(ldml_train_op, y_train)\n",
    "    \n",
    "    # Compute the k-nearest neighbor test accuracy after applying the learned transformation\n",
    "    #lmnn_acc = knn.score(lmnn.transform(X_test), y_test)\n",
    "    \n",
    "    y_pred_prob = knn.predict_proba(ldml_test_op)\n",
    "    y_pred = knn.predict(ldml_test_op)\n",
    "    k_score = ldml_acc = knn.score(ldml_test_op, y_test)\n",
    "    print(k_score)\n",
    "    acc, y_pair_actual, y_pair_pred = get_acc(y_pred, y_pred_prob, method='knn')\n",
    "    #print(y_pair_pred)\n",
    "    ldml_acc_knn.append(acc)\n",
    "    roc_auc1, fpr_, tpr_ = roc_auc_curve(y_pair_actual, y_pair_pred)\n",
    "    roc_knn.append(roc_auc1)\n",
    "    fpr_knn.append(fpr_)\n",
    "    tpr_knn.append(tpr_)\n",
    "    \n",
    "    Mknn = Marginal_knn(n_neighbors=k)\n",
    "    Mknn.fit(ldml_train_op, y_train)\n",
    "    y_pred = Mknn.predict(ldml_test_op)\n",
    "    acc, y_pair_actual, y_pair_pred = get_acc(y_pred, y_pred_prob, method='mknn')\n",
    "    ldml_acc_mknn.append(acc)\n",
    "    roc_auc2, fpr_, tpr_ = roc_auc_curve(y_pair_actual, y_pred)\n",
    "    roc_mknn.append(roc_auc2)\n",
    "    fpr_mknn.append(fpr_)\n",
    "    tpr_mknn.append(tpr_)\n",
    "    print(\"ROC-AUC score with \",str(k),\" neighbors\")\n",
    "    print(\"K-NN:\", roc_auc1['micro'], \"\\tM-KNN:\", roc_auc2['micro'])"
   ]
  },
  {
   "cell_type": "code",
   "execution_count": 21,
   "metadata": {},
   "outputs": [
    {
     "data": {
      "image/png": "[encoded data removed]",
      "text/plain": [
       "<Figure size 864x432 with 2 Axes>"
      ]
     },
     "metadata": {},
     "output_type": "display_data"
    }
   ],
   "source": [
    "fig, (ax1, ax2) = plt.subplots(1,2, figsize = (12,6))\n",
    "ax1.set_xlabel('False Positive Rate')\n",
    "ax1.set_ylabel('True Positive Rate')\n",
    "ax1.set_title('ROC-KNN')\n",
    "ax1.set_xlim([0.0, 1.0])\n",
    "ax1.set_ylim([0.0, 1.05])\n",
    "ax2.set_xlabel('False Positive Rate')\n",
    "ax2.set_ylabel('True Positive Rate')\n",
    "ax2.set_title('ROC-M-KNN')\n",
    "ax2.set_xlim([0.0, 1.0])\n",
    "ax2.set_ylim([0.0, 1.05])\n",
    "lw = 1\n",
    "x = 0\n",
    "color = ['b', 'g', 'r', 'm']\n",
    "for i in range(len(k_neighbors)):\n",
    "    ax1.plot(fpr_knn[i][x], tpr_knn[i][x], color=color[i],\n",
    "             lw=lw, label='ROC '+str(k_neighbors[i])+'-nn (area=%0.2f)' % roc_knn[i][x])\n",
    "    ax2.plot(fpr_mknn[i][x], tpr_mknn[i][x], color=color[i],\n",
    "             lw=lw, label='ROC '+str(k_neighbors[i])+'-nn (area=%0.2f)' % roc_mknn[i][x])\n",
    "    #plt.plot([0, 1], [0, 1], color='navy', lw=lw, linestyle='--')\n",
    "    \n",
    "    ax1.legend(loc=\"lower right\")\n",
    "    ax2.legend(loc=\"lower right\")\n",
    "plt.show()"
   ]
  },
  {
   "cell_type": "code",
   "execution_count": 9,
   "metadata": {},
   "outputs": [
    {
     "name": "stderr",
     "output_type": "stream",
     "text": [
      "/usr/lib/python3/dist-packages/ipykernel_launcher.py:2: RuntimeWarning: overflow encountered in exp\n",
      "  \n",
      "/usr/lib/python3/dist-packages/ipykernel_launcher.py:2: RuntimeWarning: divide by zero encountered in log\n",
      "  \n",
      "/usr/lib/python3/dist-packages/ipykernel_launcher.py:2: RuntimeWarning: invalid value encountered in multiply\n",
      "  \n"
     ]
    },
    {
     "name": "stdout",
     "output_type": "stream",
     "text": [
      "Fit done\n"
     ]
    }
   ],
   "source": [
    "ldml_instance = LDML(initial_metric='euclidean', max_iter=100, eta0 = 0.1, b=0.01) #initial_metric=np.identity(np.shape(X_train)[1], dtype=float), upper_bound=1, lower_bound=1, gamma=1, max_iter=1000\n",
    "ldml_instance.fit(np.asarray(X_train), np.asarray(y_train))\n",
    "print('Fit done')\n",
    "#print(ldml_instance.metric())\n",
    "ldml_train_op = ldml_instance.transform(np.asarray(X_train))"
   ]
  },
  {
   "cell_type": "code",
   "execution_count": 10,
   "metadata": {},
   "outputs": [
    {
     "name": "stdout",
     "output_type": "stream",
     "text": [
      "(925, 123)\n"
     ]
    }
   ],
   "source": [
    "k_test = 3\n",
    "knn = KNeighborsClassifier(n_neighbors=k_test)\n",
    "knn.fit(ldml_train_op, y_train)\n",
    "print(ldml_train_op.shape)"
   ]
  },
  {
   "cell_type": "code",
   "execution_count": 11,
   "metadata": {},
   "outputs": [
    {
     "name": "stdout",
     "output_type": "stream",
     "text": [
      "(200,)\n",
      "LDML accuracy on test set of 123 points: 0.2650\n"
     ]
    }
   ],
   "source": [
    "ldml_test_op = ldml_instance.transform(np.asarray(X_test))\n",
    "print(np.shape(y_test))\n",
    "ldml_acc = knn.score(ldml_test_op, y_test)\n",
    "print('LDML accuracy on test set of {} points: {:.4f}'.format(len(X_test[0]), ldml_acc))"
   ]
  },
  {
   "cell_type": "code",
   "execution_count": 13,
   "metadata": {},
   "outputs": [
    {
     "name": "stdout",
     "output_type": "stream",
     "text": [
      "400 39800\n",
      "LDML accuracy on test set of 123 points: 0.0201\n"
     ]
    }
   ],
   "source": [
    "knn = KNeighborsClassifier(n_neighbors=k_test)\n",
    "knn.fit(ldml_train_op, y_train)\n",
    "y_pred = knn.predict(X_test)\n",
    "ldml_positive_count = 0\n",
    "y_pair_actual = []\n",
    "y_pair_pred = []\n",
    "for i in range(len(X_test)-1):\n",
    "    for j in range(i+1,len(X_test)):\n",
    "        if y_test[i]==y_test[j]:\n",
    "            y_pair_actual.append(1)\n",
    "        else:\n",
    "            y_pair_actual.append(0)\n",
    "        if y_pred[i]==y_pred[j]:\n",
    "            y_pair_pred.append(1)\n",
    "        else:\n",
    "            y_pair_pred.append(0)\n",
    "        if y_test[i]==y_test[j] and y_pred[i]==y_pred[j]:\n",
    "            ldml_positive_count+=1\n",
    "        if y_test[i]!=y_test[j] and y_pred[i]!=y_pred[j]:\n",
    "            ldml_positive_count+=1\n",
    "print(ldml_positive_count, ((len(X_test)*(len(X_test)-1))))\n",
    "ldml_acc = ldml_positive_count*2/((len(X_test)*(len(X_test)-1)))\n",
    "#itml_acc = knn.score(lmnn.transform(X_test), y_test)\n",
    "print('LDML accuracy on test set of {} points: {:.4f}'.format(len(X_test[0]), ldml_acc))"
   ]
  },
  {
   "cell_type": "code",
   "execution_count": 14,
   "metadata": {},
   "outputs": [
    {
     "name": "stdout",
     "output_type": "stream",
     "text": [
      "{0: 0.5, 1: 0.5, 'micro': 0.5}\n"
     ]
    }
   ],
   "source": [
    "from sklearn.metrics import roc_curve, auc\n",
    "from sklearn.metrics import roc_auc_score\n",
    "# Compute ROC curve and ROC area for each class\n",
    "fpr = dict()\n",
    "tpr = dict()\n",
    "roc_auc = dict()\n",
    "for i in range(2):\n",
    "    fpr[i], tpr[i], _ = roc_curve(y_pair_actual, y_pair_pred)  #fpr[i], tpr[i], _ = roc_curve(y_test[:, i], y_pred[:, i])\n",
    "    roc_auc[i] = auc(fpr[i], tpr[i])\n",
    "\n",
    "# Compute micro-average ROC curve and ROC area\n",
    "fpr[\"micro\"], tpr[\"micro\"], _ = roc_curve(y_pair_actual, y_pair_pred)\n",
    "roc_auc[\"micro\"] = auc(fpr[\"micro\"], tpr[\"micro\"])\n",
    "print(roc_auc)"
   ]
  },
  {
   "cell_type": "code",
   "execution_count": 15,
   "metadata": {},
   "outputs": [
    {
     "data": {
      "image/png": "[encoded data removed]",
      "text/plain": [
       "<Figure size 432x288 with 1 Axes>"
      ]
     },
     "metadata": {},
     "output_type": "display_data"
    }
   ],
   "source": [
    "plt.figure()\n",
    "lw = 1\n",
    "x = 0\n",
    "plt.plot(fpr[x], tpr[x], color='darkorange',\n",
    "         lw=lw, label='ROC curve (area = %0.2f)' % roc_auc[x])\n",
    "#plt.plot([0, 1], [0, 1], color='navy', lw=lw, linestyle='--')\n",
    "plt.xlim([0.0, 1.0])\n",
    "plt.ylim([0.0, 1.05])\n",
    "plt.xlabel('False Positive Rate')\n",
    "plt.ylabel('True Positive Rate')\n",
    "plt.title('Receiver operating characteristic example')\n",
    "plt.legend(loc=\"lower right\")\n",
    "plt.show()"
   ]
  },
  {
   "cell_type": "code",
   "execution_count": 16,
   "metadata": {},
   "outputs": [
    {
     "name": "stdout",
     "output_type": "stream",
     "text": [
      "One-vs-One ROC AUC scores:\n",
      "0.500000 (macro),\n",
      "0.500000 (weighted by prevalence)\n",
      "One-vs-Rest ROC AUC scores:\n",
      "0.500000 (macro),\n",
      "0.500000 (weighted by prevalence)\n"
     ]
    }
   ],
   "source": [
    "from sklearn.metrics import roc_auc_score\n",
    "\n",
    "y_prob = knn.predict_proba(X_test)\n",
    "\n",
    "macro_roc_auc_ovo = roc_auc_score(y_test, y_prob, multi_class=\"ovo\",\n",
    "                                  average=\"macro\")\n",
    "weighted_roc_auc_ovo = roc_auc_score(y_test, y_prob, multi_class=\"ovo\",\n",
    "                                     average=\"weighted\")\n",
    "macro_roc_auc_ovr = roc_auc_score(y_test, y_prob, multi_class=\"ovr\",\n",
    "                                  average=\"macro\")\n",
    "weighted_roc_auc_ovr = roc_auc_score(y_test, y_prob, multi_class=\"ovr\",\n",
    "                                     average=\"weighted\")\n",
    "print(\"One-vs-One ROC AUC scores:\\n{:.6f} (macro),\\n{:.6f} \"\n",
    "      \"(weighted by prevalence)\"\n",
    "      .format(macro_roc_auc_ovo, weighted_roc_auc_ovo))\n",
    "print(\"One-vs-Rest ROC AUC scores:\\n{:.6f} (macro),\\n{:.6f} \"\n",
    "      \"(weighted by prevalence)\"\n",
    "      .format(macro_roc_auc_ovr, weighted_roc_auc_ovr))"
   ]
  },
  {
   "cell_type": "code",
   "execution_count": 20,
   "metadata": {},
   "outputs": [],
   "source": [
    "from Marginal_knn import Marginal_knn\n",
    "\n",
    "Mknn = Marginal_knn(n_neighbors=k_test)\n",
    "Mknn.fit(ldml_train_op, y_train)\n",
    "y_pair_pred = Mknn.predict(X_test)"
   ]
  },
  {
   "cell_type": "code",
   "execution_count": 21,
   "metadata": {},
   "outputs": [
    {
     "name": "stdout",
     "output_type": "stream",
     "text": [
      "{0: 0.5, 1: 0.5, 'micro': 0.5}\n"
     ]
    }
   ],
   "source": [
    "from sklearn.metrics import roc_curve, auc\n",
    "from sklearn.metrics import roc_auc_score\n",
    "# Compute ROC curve and ROC area for each class\n",
    "fpr = dict()\n",
    "tpr = dict()\n",
    "roc_auc = dict()\n",
    "for i in range(2):\n",
    "    fpr[i], tpr[i], _ = roc_curve(y_pair_actual, y_pair_pred)  #fpr[i], tpr[i], _ = roc_curve(y_test[:, i], y_pred[:, i])\n",
    "    roc_auc[i] = auc(fpr[i], tpr[i])\n",
    "\n",
    "# Compute micro-average ROC curve and ROC area\n",
    "fpr[\"micro\"], tpr[\"micro\"], _ = roc_curve(y_pair_actual, y_pair_pred)\n",
    "roc_auc[\"micro\"] = auc(fpr[\"micro\"], tpr[\"micro\"])\n",
    "print(roc_auc)"
   ]
  },
  {
   "cell_type": "code",
   "execution_count": 22,
   "metadata": {},
   "outputs": [
    {
     "data": {
      "image/png": "[encoded data removed]",
      "text/plain": [
       "<Figure size 432x288 with 1 Axes>"
      ]
     },
     "metadata": {},
     "output_type": "display_data"
    }
   ],
   "source": [
    "plt.figure()\n",
    "lw = 1\n",
    "x = 0\n",
    "plt.plot(fpr[x], tpr[x], color='darkorange',\n",
    "         lw=lw, label='ROC curve (area = %0.2f)' % roc_auc[x])\n",
    "#plt.plot([0, 1], [0, 1], color='navy', lw=lw, linestyle='--')\n",
    "plt.xlim([0.0, 1.0])\n",
    "plt.ylim([0.0, 1.05])\n",
    "plt.xlabel('False Positive Rate')\n",
    "plt.ylabel('True Positive Rate')\n",
    "plt.title('Receiver operating characteristic example')\n",
    "plt.legend(loc=\"lower right\")\n",
    "plt.show()"
   ]
  },
  {
   "cell_type": "code",
   "execution_count": 23,
   "metadata": {},
   "outputs": [
    {
     "name": "stdout",
     "output_type": "stream",
     "text": [
      "One-vs-One ROC AUC scores:\n",
      "0.500000 (macro),\n",
      "0.500000 (weighted by prevalence)\n",
      "One-vs-Rest ROC AUC scores:\n",
      "0.500000 (macro),\n",
      "0.500000 (weighted by prevalence)\n"
     ]
    }
   ],
   "source": [
    "macro_roc_auc_ovo = roc_auc_score(y_pair_actual, y_pair_pred, multi_class=\"ovo\",\n",
    "                                  average=\"macro\")\n",
    "weighted_roc_auc_ovo = roc_auc_score(y_pair_actual, y_pair_pred, multi_class=\"ovo\",\n",
    "                                     average=\"weighted\")\n",
    "macro_roc_auc_ovr = roc_auc_score(y_pair_actual, y_pair_pred, multi_class=\"ovr\",\n",
    "                                  average=\"macro\")\n",
    "weighted_roc_auc_ovr = roc_auc_score(y_pair_actual, y_pair_pred, multi_class=\"ovr\",\n",
    "                                     average=\"weighted\")\n",
    "print(\"One-vs-One ROC AUC scores:\\n{:.6f} (macro),\\n{:.6f} \"\n",
    "      \"(weighted by prevalence)\"\n",
    "      .format(macro_roc_auc_ovo, weighted_roc_auc_ovo))\n",
    "print(\"One-vs-Rest ROC AUC scores:\\n{:.6f} (macro),\\n{:.6f} \"\n",
    "      \"(weighted by prevalence)\"\n",
    "      .format(macro_roc_auc_ovr, weighted_roc_auc_ovr))"
   ]
  },
  {
   "cell_type": "code",
   "execution_count": null,
   "metadata": {},
   "outputs": [],
   "source": []
  }
 ],
 "metadata": {
  "kernelspec": {
   "display_name": "Python 3",
   "language": "python",
   "name": "python3"
  },
  "language_info": {
   "codemirror_mode": {
    "name": "ipython",
    "version": 3
   },
   "file_extension": ".py",
   "mimetype": "text/x-python",
   "name": "python",
   "nbconvert_exporter": "python",
   "pygments_lexer": "ipython3",
   "version": "3.6.9"
  }
 },
 "nbformat": 4,
 "nbformat_minor": 2
}
